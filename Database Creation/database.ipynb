{
 "cells": [
  {
   "cell_type": "markdown",
   "id": "0493f95d",
   "metadata": {},
   "source": [
    "## Database Creation\n",
    "\n",
    "### Database \"fooddemand\" is created and all processed data files are loaded into the database. For this, PostgreSQL is used."
   ]
  },
  {
   "cell_type": "code",
   "execution_count": 2,
   "id": "af315f0f",
   "metadata": {},
   "outputs": [],
   "source": [
    "# Import libraries\n",
    "\n",
    "import psycopg2\n",
    "import pandas as pd\n"
   ]
  },
  {
   "cell_type": "code",
   "execution_count": 17,
   "id": "b4954c74",
   "metadata": {},
   "outputs": [],
   "source": [
    "# Establish a connection to the Postgres database\n",
    "conn = psycopg2.connect(\n",
    "host=\"localhost\",\n",
    "database=\"fooddemand\",\n",
    "user=\"mahesh\",\n",
    "password=\"secret\"\n",
    ")"
   ]
  },
  {
   "cell_type": "code",
   "execution_count": 18,
   "id": "eab2f12d",
   "metadata": {},
   "outputs": [
    {
     "name": "stdout",
     "output_type": "stream",
     "text": [
      "<connection object at 0x7f1b49bc1a40; dsn: 'user=mahesh password=xxx dbname=fooddemand host=localhost', closed: 0>\n"
     ]
    }
   ],
   "source": [
    "# Check connection\n",
    "print(conn)"
   ]
  },
  {
   "cell_type": "code",
   "execution_count": 19,
   "id": "e1545a9d",
   "metadata": {},
   "outputs": [],
   "source": [
    "# Create Cursor\n",
    "mycursor = conn.cursor()"
   ]
  },
  {
   "cell_type": "code",
   "execution_count": 6,
   "id": "ee89c76f",
   "metadata": {},
   "outputs": [],
   "source": [
    "# Create new table FulfilmentCenterInfo\n",
    "\n",
    "mycursor.execute(\"\"\"CREATE TABLE FulfilmentCenterInfo (center_id INT, city_code INT, \\\n",
    "                region_code INT, center_type VARCHAR, op_area FLOAT)\"\"\")\n"
   ]
  },
  {
   "cell_type": "code",
   "execution_count": 7,
   "id": "ea623f68",
   "metadata": {},
   "outputs": [],
   "source": [
    "# Create new table MealInfo\n",
    "\n",
    "mycursor.execute(\"\"\"CREATE TABLE MealInfo (meal_id INT, category VARCHAR, cuisine VARCHAR)\"\"\")\n"
   ]
  },
  {
   "cell_type": "code",
   "execution_count": 8,
   "id": "e684a148",
   "metadata": {},
   "outputs": [],
   "source": [
    "# Create new table Train\n",
    "\n",
    "mycursor.execute(\"\"\"CREATE TABLE Train (id INT, week INT, center_id INT, meal_id INT, checkout_price FLOAT, \\\n",
    "                base_price FLOAT, emailer_for_promotion INT, homepage_featured INT, num_orders INT)\"\"\")\n"
   ]
  },
  {
   "cell_type": "code",
   "execution_count": 9,
   "id": "7c92e737",
   "metadata": {},
   "outputs": [],
   "source": [
    "# Create new table Test\n",
    "\n",
    "mycursor.execute(\"\"\"CREATE TABLE Test (id INT, week INT, center_id INT, meal_id INT, checkout_price FLOAT, \\\n",
    "                base_price FLOAT, emailer_for_promotion INT, homepage_featured INT)\"\"\")\n"
   ]
  },
  {
   "cell_type": "code",
   "execution_count": 11,
   "id": "ddeb1a48",
   "metadata": {},
   "outputs": [
    {
     "name": "stdout",
     "output_type": "stream",
     "text": [
      "<_io.TextIOWrapper name='../fulfilment_center_info.csv' mode='r' encoding='UTF-8'>\n"
     ]
    }
   ],
   "source": [
    "# Inserting data into FulfilmentCenterInfo table group \n",
    "with open('../fulfilment_center_info.csv', 'r') as file:\n",
    "    print(file)\n",
    "    # Build the SQL statement to copy data from the CSV file into the table\n",
    "    sql = f\"COPY FulfilmentCenterInfo FROM STDIN WITH (FORMAT csv, HEADER true, DELIMITER ',')\"\n",
    "    # Execute the SQL statement\n",
    "    mycursor.copy_expert(sql, file)\n",
    "    # Commit the changes\n",
    "    conn.commit()"
   ]
  },
  {
   "cell_type": "code",
   "execution_count": 12,
   "id": "5d2cd6f6",
   "metadata": {},
   "outputs": [],
   "source": [
    "# Inserting data into MealInfo table group \n",
    "with open('../meal_info.csv', 'r') as file:\n",
    "    print(file)\n",
    "    # Build the SQL statement to copy data from the CSV file into the table\n",
    "    sql = f\"COPY MealInfo FROM STDIN WITH (FORMAT csv, HEADER true, DELIMITER ',')\"\n",
    "    # Execute the SQL statement\n",
    "    mycursor.copy_expert(sql, file)\n",
    "    # Commit the changes\n",
    "    conn.commit()"
   ]
  },
  {
   "cell_type": "code",
   "execution_count": 13,
   "id": "932f830b",
   "metadata": {},
   "outputs": [
    {
     "name": "stdout",
     "output_type": "stream",
     "text": [
      "<_io.TextIOWrapper name='../train.csv' mode='r' encoding='UTF-8'>\n"
     ]
    }
   ],
   "source": [
    "# Inserting data into Train table group \n",
    "with open('../train.csv', 'r') as file:\n",
    "    print(file)\n",
    "    # Build the SQL statement to copy data from the CSV file into the table\n",
    "    sql = f\"COPY Train FROM STDIN WITH (FORMAT csv, HEADER true, DELIMITER ',')\"\n",
    "    # Execute the SQL statement\n",
    "    mycursor.copy_expert(sql, file)\n",
    "    # Commit the changes\n",
    "    conn.commit()"
   ]
  },
  {
   "cell_type": "code",
   "execution_count": 20,
   "id": "a288474d",
   "metadata": {},
   "outputs": [
    {
     "name": "stdout",
     "output_type": "stream",
     "text": [
      "<_io.TextIOWrapper name='../test.csv' mode='r' encoding='UTF-8'>\n"
     ]
    }
   ],
   "source": [
    "# Inserting data into Test table group \n",
    "with open('../test.csv', 'r') as file:\n",
    "    print(file)\n",
    "    # Build the SQL statement to copy data from the CSV file into the table\n",
    "    sql = f\"COPY Test FROM STDIN WITH (FORMAT csv, HEADER true, DELIMITER ',')\"\n",
    "    # Execute the SQL statement\n",
    "    mycursor.copy_expert(sql, file)\n",
    "    # Commit the changes\n",
    "    conn.commit()"
   ]
  },
  {
   "cell_type": "code",
   "execution_count": 21,
   "id": "60c93083",
   "metadata": {},
   "outputs": [],
   "source": [
    "# Close the cursor and the connection\n",
    "mycursor.close()\n",
    "conn.commit()"
   ]
  },
  {
   "cell_type": "code",
   "execution_count": null,
   "id": "60a8ee1e",
   "metadata": {},
   "outputs": [],
   "source": []
  }
 ],
 "metadata": {
  "kernelspec": {
   "display_name": "Python 3 (ipykernel)",
   "language": "python",
   "name": "python3"
  },
  "language_info": {
   "codemirror_mode": {
    "name": "ipython",
    "version": 3
   },
   "file_extension": ".py",
   "mimetype": "text/x-python",
   "name": "python",
   "nbconvert_exporter": "python",
   "pygments_lexer": "ipython3",
   "version": "3.9.13"
  }
 },
 "nbformat": 4,
 "nbformat_minor": 5
}
