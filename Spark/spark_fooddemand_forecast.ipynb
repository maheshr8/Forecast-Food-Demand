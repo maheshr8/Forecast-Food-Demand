{
 "cells": [
  {
   "cell_type": "markdown",
   "id": "b3868377",
   "metadata": {},
   "source": [
    "## Food Demand Forecasting for Food Delivery Company\n",
    "\n",
    "\n",
    "\n",
    "#### Project Descreption:\n",
    "\n",
    "The majority of the raw ingredients used by a food delivery service are perishable, thus precisely forecasting daily and weekly demand is crucial for this kind of business. A warehouse with too much inventory runs the danger of wastage, while one with too little could experience out-of-stocks, which would force clients to turn to your rivals for assistance. The challenge is to forecast demand because the majority of raw materials must be replenished on a weekly basis and are perishable, making procurement planning crucial. \n",
    "\n",
    "The main goal of this project is to create an appropriate machine learning model to forecast the number of orders to gather raw materials for upcoming weeks. To achieve this, we should first gather data from HDFS. We should know the information about of fulfilment center like area, city etc., and meal information like category of food sub category of food price of the food or discount in particular week. By using this data, we can use any regression algorithm to forecast the quantity for upcoming weeks. \n",
    "\n",
    "#### Data Pre-processing\n",
    "\n",
    "Data Pre-processing includes the following main tasks\n",
    "\n",
    "- Import the libraries\n",
    "- Loading the dataset from HDFS\n",
    "- Exploratory Data Analysis\n",
    "- Checking for Null Values\n",
    "- Reading and merging files\n",
    "- Dropping the columns\n",
    "- Label Encoding\n",
    "- Data Visualization\n",
    "- Splitting the Dataset into train and test\n",
    "- Model Building\n",
    "\n",
    "The train data is splitted into 70/30 % train/test and model is build using Linear Regressor and Random Forest Tree Regressor."
   ]
  },
  {
   "cell_type": "code",
   "execution_count": 1,
   "id": "0c06c427",
   "metadata": {},
   "outputs": [],
   "source": [
    "# Import Libraries\n",
    "from pyspark.sql import SparkSession\n",
    "from pyspark.sql.functions import col\n",
    "from pyspark.ml.stat import Correlation\n",
    "from pyspark.ml.feature import VectorAssembler\n",
    "from pyspark.sql.functions import monotonically_increasing_id\n",
    "\n",
    "from pyspark.ml.feature import StringIndexer\n",
    "from pyspark.ml.regression import LinearRegression\n",
    "from pyspark.ml.regression import RandomForestRegressor\n",
    "from pyspark.ml.evaluation import RegressionEvaluator\n",
    "\n",
    "# Import standard libraries\n",
    "import numpy as np\n",
    "import matplotlib.pyplot as plt\n",
    "import seaborn as sns\n",
    "import plotnine as p9\n",
    "%matplotlib inline\n",
    "color = sns.color_palette()\n"
   ]
  },
  {
   "cell_type": "code",
   "execution_count": 2,
   "id": "901404c2",
   "metadata": {},
   "outputs": [
    {
     "name": "stdout",
     "output_type": "stream",
     "text": [
      "23/04/11 16:57:15 WARN Utils: Your hostname, cis6180 resolves to a loopback address: 127.0.1.1; using 10.0.2.15 instead (on interface enp0s3)\n",
      "23/04/11 16:57:15 WARN Utils: Set SPARK_LOCAL_IP if you need to bind to another address\n"
     ]
    },
    {
     "name": "stderr",
     "output_type": "stream",
     "text": [
      "Setting default log level to \"WARN\".\n",
      "To adjust logging level use sc.setLogLevel(newLevel). For SparkR, use setLogLevel(newLevel).\n"
     ]
    },
    {
     "name": "stdout",
     "output_type": "stream",
     "text": [
      "23/04/11 16:57:16 WARN NativeCodeLoader: Unable to load native-hadoop library for your platform... using builtin-java classes where applicable\n",
      "+---------+---------+-----------+-----------+-------+\n",
      "|center_id|city_code|region_code|center_type|op_area|\n",
      "+---------+---------+-----------+-----------+-------+\n",
      "|       11|      679|         56|     TYPE_A|    3.7|\n",
      "|       13|      590|         56|     TYPE_B|    6.7|\n",
      "|      124|      590|         56|     TYPE_C|    4.0|\n",
      "|       66|      648|         34|     TYPE_A|    4.1|\n",
      "|       94|      632|         34|     TYPE_C|    3.6|\n",
      "|       64|      553|         77|     TYPE_A|    4.4|\n",
      "|      129|      593|         77|     TYPE_A|    3.9|\n",
      "|      139|      693|         34|     TYPE_C|    2.8|\n",
      "|       88|      526|         34|     TYPE_A|    4.1|\n",
      "|      143|      562|         77|     TYPE_B|    3.8|\n",
      "|      101|      699|         85|     TYPE_C|    2.8|\n",
      "|       86|      699|         85|     TYPE_C|    4.0|\n",
      "|       32|      526|         34|     TYPE_A|    3.8|\n",
      "|      149|      478|         77|     TYPE_A|    2.4|\n",
      "|      152|      576|         34|     TYPE_B|    4.0|\n",
      "|       92|      526|         34|     TYPE_C|    2.9|\n",
      "|       27|      713|         85|     TYPE_A|    4.5|\n",
      "|       14|      654|         56|     TYPE_C|    2.7|\n",
      "|       26|      515|         77|     TYPE_C|    3.0|\n",
      "|      104|      647|         56|     TYPE_A|    4.5|\n",
      "+---------+---------+-----------+-----------+-------+\n",
      "only showing top 20 rows\n",
      "\n"
     ]
    }
   ],
   "source": [
    "# Create a SparkSession\n",
    "spark = SparkSession.builder.appName(\"FoodDemand\").getOrCreate()\n",
    "\n",
    "# Load a fulfilmentcenterinfo table from HDFS\n",
    "center_data = spark.read.format(\"csv\").option(\"header\", \"false\").load(\"fooddemand/fulfilmentcenterinfo/part-m-00000\")\n",
    "\n",
    "# Columns of the fulfilmentcenterinfo DataFrame\n",
    "center_data = center_data.withColumnRenamed(\"_c0\", \"center_id\").withColumnRenamed(\"_c1\", \"city_code\").withColumnRenamed(\"_c2\", \"region_code\").withColumnRenamed(\"_c3\", \"center_type\").withColumnRenamed(\"_c4\", \"op_area\")\n",
    "# Datatype of the fulfilmentcenterinfo DataFrame\n",
    "center_data = center_data.withColumn(\"center_id\", col(\"center_id\").cast(\"integer\")).withColumn(\"city_code\", col(\"city_code\").cast(\"integer\")).withColumn(\"region_code\", col(\"region_code\").cast(\"integer\")).withColumn(\"center_type\", col(\"center_type\").cast(\"string\")).withColumn(\"op_area\", col(\"op_area\").cast(\"float\"))\n",
    "\n",
    "# Show the contents of the fulfilmentcenterinfo DataFrame\n",
    "center_data.show()"
   ]
  },
  {
   "cell_type": "code",
   "execution_count": 3,
   "id": "25cf193b",
   "metadata": {},
   "outputs": [
    {
     "name": "stdout",
     "output_type": "stream",
     "text": [
      "Total number of rows:  77\n"
     ]
    }
   ],
   "source": [
    "# Print the total number of rows of the fulfilmentcenterinfo DataFrame\n",
    "print(\"Total number of rows: \", center_data.count())"
   ]
  },
  {
   "cell_type": "code",
   "execution_count": 4,
   "id": "b1b47075",
   "metadata": {},
   "outputs": [
    {
     "name": "stdout",
     "output_type": "stream",
     "text": [
      "root\n",
      " |-- center_id: integer (nullable = true)\n",
      " |-- city_code: integer (nullable = true)\n",
      " |-- region_code: integer (nullable = true)\n",
      " |-- center_type: string (nullable = true)\n",
      " |-- op_area: float (nullable = true)\n",
      "\n"
     ]
    }
   ],
   "source": [
    "# Print fulfilmentcenterinfo schema\n",
    "center_data.printSchema()"
   ]
  },
  {
   "cell_type": "code",
   "execution_count": 5,
   "id": "35353133",
   "metadata": {},
   "outputs": [
    {
     "name": "stdout",
     "output_type": "stream",
     "text": [
      "+-------+------------+-------+\n",
      "|meal_id|    category|cuisine|\n",
      "+-------+------------+-------+\n",
      "|   1885|   Beverages|   Thai|\n",
      "|   1993|   Beverages|   Thai|\n",
      "|   2539|   Beverages|   Thai|\n",
      "|   1248|   Beverages| Indian|\n",
      "|   2631|   Beverages| Indian|\n",
      "|   1311|      Extras|   Thai|\n",
      "|   1062|   Beverages|Italian|\n",
      "|   1778|   Beverages|Italian|\n",
      "|   1803|      Extras|   Thai|\n",
      "|   1198|      Extras|   Thai|\n",
      "|   2707|   Beverages|Italian|\n",
      "|   1847|        Soup|   Thai|\n",
      "|   1438|        Soup|   Thai|\n",
      "|   2494|        Soup|   Thai|\n",
      "|   2760|Other Snacks|   Thai|\n",
      "|   2490|       Salad|Italian|\n",
      "|   1109|   Rice Bowl| Indian|\n",
      "|   2290|   Rice Bowl| Indian|\n",
      "|   1525|Other Snacks|   Thai|\n",
      "|   2704|Other Snacks|   Thai|\n",
      "+-------+------------+-------+\n",
      "only showing top 20 rows\n",
      "\n"
     ]
    }
   ],
   "source": [
    "# Load a mealinfo table from HDFS\n",
    "meal_data = spark.read.format(\"csv\").option(\"header\", \"false\").load(\"fooddemand/mealinfo/part-m-00000\")\n",
    "\n",
    "# Columns of the mealinfo DataFrame\n",
    "meal_data = meal_data.withColumnRenamed(\"_c0\", \"meal_id\").withColumnRenamed(\"_c1\", \"category\").withColumnRenamed(\"_c2\", \"cuisine\")\n",
    "# Datatype of the mealinfo DataFrame\n",
    "meal_data = meal_data.withColumn(\"meal_id\", col(\"meal_id\").cast(\"integer\")).withColumn(\"category\", col(\"category\").cast(\"string\")).withColumn(\"cuisine\", col(\"cuisine\").cast(\"string\"))\n",
    "\n",
    "# Show the contents of the mealinfo DataFrame\n",
    "meal_data.show()"
   ]
  },
  {
   "cell_type": "code",
   "execution_count": 6,
   "id": "3348f259",
   "metadata": {},
   "outputs": [
    {
     "name": "stdout",
     "output_type": "stream",
     "text": [
      "Total number of rows:  51\n"
     ]
    }
   ],
   "source": [
    "# Print the total number of rows of the mealinfo DataFrame\n",
    "print(\"Total number of rows: \", meal_data.count())"
   ]
  },
  {
   "cell_type": "code",
   "execution_count": 7,
   "id": "933b6df2",
   "metadata": {},
   "outputs": [
    {
     "name": "stdout",
     "output_type": "stream",
     "text": [
      "root\n",
      " |-- meal_id: integer (nullable = true)\n",
      " |-- category: string (nullable = true)\n",
      " |-- cuisine: string (nullable = true)\n",
      "\n"
     ]
    }
   ],
   "source": [
    "# Print mealinfo schema\n",
    "meal_data.printSchema()"
   ]
  },
  {
   "cell_type": "code",
   "execution_count": 8,
   "id": "c515d70f",
   "metadata": {},
   "outputs": [
    {
     "name": "stdout",
     "output_type": "stream",
     "text": [
      "+-------+----+---------+-------+--------------+----------+-------------------+-----------------+----------+\n",
      "|     id|week|center_id|meal_id|checkout_price|base_price|email_for_promotion|homepage_featured|num_orders|\n",
      "+-------+----+---------+-------+--------------+----------+-------------------+-----------------+----------+\n",
      "|1379560|   1|       55|   1885|        136.83|    152.29|                  0|                0|       177|\n",
      "|1466964|   1|       55|   1993|        136.83|    135.83|                  0|                0|       270|\n",
      "|1346989|   1|       55|   2539|        134.86|    135.86|                  0|                0|       189|\n",
      "|1338232|   1|       55|   2139|         339.5|    437.53|                  0|                0|        54|\n",
      "|1448490|   1|       55|   2631|         243.5|     242.5|                  0|                0|        40|\n",
      "|1270037|   1|       55|   1248|        251.23|    252.23|                  0|                0|        28|\n",
      "|1191377|   1|       55|   1778|        183.36|    184.36|                  0|                0|       190|\n",
      "|1499955|   1|       55|   1062|        182.36|    183.36|                  0|                0|       391|\n",
      "|1025244|   1|       55|   2707|        193.06|    192.06|                  0|                0|       472|\n",
      "|1054194|   1|       55|   1207|        325.92|    384.18|                  0|                1|       676|\n",
      "|1469367|   1|       55|   1230|        323.01|     390.0|                  0|                1|       823|\n",
      "|1029333|   1|       55|   2322|        322.07|     388.0|                  0|                1|       972|\n",
      "|1446016|   1|       55|   2290|        311.43|    310.43|                  0|                0|       162|\n",
      "|1244647|   1|       55|   1727|        445.23|    446.23|                  0|                0|       420|\n",
      "|1378227|   1|       55|   1109|        264.84|    297.79|                  1|                0|       756|\n",
      "|1181556|   1|       55|   2640|        282.33|    281.33|                  0|                0|       108|\n",
      "|1313873|   1|       55|   2306|         243.5|    340.53|                  0|                0|        28|\n",
      "|1067069|   1|       55|   2126|         486.0|     485.0|                  0|                0|        28|\n",
      "|1058482|   1|       55|   2826|        306.58|    305.58|                  0|                0|       188|\n",
      "|1240935|   1|       55|   1754|        289.12|    289.12|                  0|                0|       485|\n",
      "+-------+----+---------+-------+--------------+----------+-------------------+-----------------+----------+\n",
      "only showing top 20 rows\n",
      "\n"
     ]
    }
   ],
   "source": [
    "# Load a train table from HDFS\n",
    "train_data = spark.read.format(\"csv\").option(\"header\", \"false\").load(\"fooddemand/train/part-m-00000\")\n",
    "\n",
    "# Columns of the train DataFrame\n",
    "train_data = train_data.withColumnRenamed(\"_c0\", \"id\").withColumnRenamed(\"_c1\", \"week\").withColumnRenamed(\"_c2\", \"center_id\").withColumnRenamed(\"_c3\", \"meal_id\").withColumnRenamed(\"_c4\", \"checkout_price\").withColumnRenamed(\"_c5\", \"base_price\").withColumnRenamed(\"_c6\", \"email_for_promotion\").withColumnRenamed(\"_c7\", \"homepage_featured\").withColumnRenamed(\"_c8\", \"num_orders\")\n",
    "# Datatype of the fulfilmentcenterinfo DataFrame\n",
    "train_data = train_data.withColumn(\"id\", col(\"id\").cast(\"integer\")).withColumn(\"week\", col(\"week\").cast(\"integer\")).withColumn(\"center_id\", col(\"center_id\").cast(\"integer\")).withColumn(\"meal_id\", col(\"meal_id\").cast(\"integer\")).withColumn(\"checkout_price\", col(\"checkout_price\").cast(\"float\")).withColumn(\"base_price\", col(\"base_price\").cast(\"float\")).withColumn(\"email_for_promotion\", col(\"email_for_promotion\").cast(\"integer\")).withColumn(\"homepage_featured\", col(\"homepage_featured\").cast(\"integer\")).withColumn(\"num_orders\", col(\"num_orders\").cast(\"integer\"))\n",
    "\n",
    "# Show the contents of the train DataFrame\n",
    "train_data.show()"
   ]
  },
  {
   "cell_type": "code",
   "execution_count": 9,
   "id": "57ec2074",
   "metadata": {},
   "outputs": [
    {
     "name": "stdout",
     "output_type": "stream",
     "text": [
      "Total number of rows:  456548\n"
     ]
    }
   ],
   "source": [
    "# Print the total number of rows of the train DataFrame\n",
    "print(\"Total number of rows: \", train_data.count())"
   ]
  },
  {
   "cell_type": "code",
   "execution_count": 10,
   "id": "63e632d7",
   "metadata": {},
   "outputs": [
    {
     "name": "stdout",
     "output_type": "stream",
     "text": [
      "root\n",
      " |-- id: integer (nullable = true)\n",
      " |-- week: integer (nullable = true)\n",
      " |-- center_id: integer (nullable = true)\n",
      " |-- meal_id: integer (nullable = true)\n",
      " |-- checkout_price: float (nullable = true)\n",
      " |-- base_price: float (nullable = true)\n",
      " |-- email_for_promotion: integer (nullable = true)\n",
      " |-- homepage_featured: integer (nullable = true)\n",
      " |-- num_orders: integer (nullable = true)\n",
      "\n"
     ]
    }
   ],
   "source": [
    "# Print train data schema\n",
    "train_data.printSchema()"
   ]
  },
  {
   "cell_type": "code",
   "execution_count": 11,
   "id": "dddfc031",
   "metadata": {},
   "outputs": [
    {
     "name": "stdout",
     "output_type": "stream",
     "text": [
      "+-------+----+---------+-------+--------------+----------+-------------------+-----------------+\n",
      "|     id|week|center_id|meal_id|checkout_price|base_price|email_for_promotion|homepage_featured|\n",
      "+-------+----+---------+-------+--------------+----------+-------------------+-----------------+\n",
      "|1028232| 146|       55|   1885|        158.11|    159.11|                  0|                0|\n",
      "|1127204| 146|       55|   1993|        160.11|    159.11|                  0|                0|\n",
      "|1212707| 146|       55|   2539|        157.14|    159.14|                  0|                0|\n",
      "|1082698| 146|       55|   2631|        162.02|    162.02|                  0|                0|\n",
      "|1400926| 146|       55|   1248|        163.93|    163.93|                  0|                0|\n",
      "|1284113| 146|       55|   1778|        190.15|    190.15|                  0|                0|\n",
      "|1197966| 146|       55|   1062|        191.09|    192.09|                  0|                0|\n",
      "|1132739| 146|       55|   2707|        242.56|    240.56|                  0|                0|\n",
      "|1057981| 146|       55|   1207|         360.9|     360.9|                  0|                0|\n",
      "|1095932| 146|       55|   1230|        383.18|    384.18|                  0|                0|\n",
      "|1454421| 146|       55|   2322|         389.0|     390.0|                  0|                0|\n",
      "|1149765| 146|       55|   2290|        302.64|    303.64|                  0|                0|\n",
      "|1166964| 146|       55|   1727|        466.63|    465.63|                  0|                0|\n",
      "|1010949| 146|       55|   1109|        309.43|    310.43|                  0|                0|\n",
      "|1409575| 146|       55|   2577|        320.13|    320.13|                  0|                1|\n",
      "|1181616| 146|       55|   2640|        319.13|    319.13|                  0|                0|\n",
      "|1456020| 146|       55|   2826|        377.33|    379.33|                  0|                0|\n",
      "|1264395| 146|       55|   1754|        329.86|    329.86|                  0|                0|\n",
      "|1472931| 146|       55|   1971|        344.35|    344.35|                  0|                0|\n",
      "|1412015| 146|       55|   1198|         135.8|    190.18|                  0|                0|\n",
      "+-------+----+---------+-------+--------------+----------+-------------------+-----------------+\n",
      "only showing top 20 rows\n",
      "\n"
     ]
    }
   ],
   "source": [
    "# Load a test table from HDFS\n",
    "test_data = spark.read.format(\"csv\").option(\"header\", \"false\").load(\"fooddemand/test/part-m-00000\")\n",
    "\n",
    "# Columns of the test DataFrame\n",
    "test_data = test_data.withColumnRenamed(\"_c0\", \"id\").withColumnRenamed(\"_c1\", \"week\").withColumnRenamed(\"_c2\", \"center_id\").withColumnRenamed(\"_c3\", \"meal_id\").withColumnRenamed(\"_c4\", \"checkout_price\").withColumnRenamed(\"_c5\", \"base_price\").withColumnRenamed(\"_c6\", \"email_for_promotion\").withColumnRenamed(\"_c7\", \"homepage_featured\")\n",
    "# Datatype of the fulfilmentcenterinfo DataFrame\n",
    "test_data = test_data.withColumn(\"id\", col(\"id\").cast(\"integer\")).withColumn(\"week\", col(\"week\").cast(\"integer\")).withColumn(\"center_id\", col(\"center_id\").cast(\"integer\")).withColumn(\"meal_id\", col(\"meal_id\").cast(\"integer\")).withColumn(\"checkout_price\", col(\"checkout_price\").cast(\"float\")).withColumn(\"base_price\", col(\"base_price\").cast(\"float\")).withColumn(\"email_for_promotion\", col(\"email_for_promotion\").cast(\"integer\")).withColumn(\"homepage_featured\", col(\"homepage_featured\").cast(\"integer\"))\n",
    "\n",
    "# Show the contents of the test DataFrame\n",
    "test_data.show()"
   ]
  },
  {
   "cell_type": "code",
   "execution_count": 12,
   "id": "d3d533f6",
   "metadata": {},
   "outputs": [
    {
     "name": "stdout",
     "output_type": "stream",
     "text": [
      "Total number of rows:  32573\n"
     ]
    }
   ],
   "source": [
    "# Print the total number of rows of the train DataFrame\n",
    "print(\"Total number of rows: \", test_data.count())"
   ]
  },
  {
   "cell_type": "code",
   "execution_count": 13,
   "id": "320521df",
   "metadata": {},
   "outputs": [
    {
     "name": "stdout",
     "output_type": "stream",
     "text": [
      "root\n",
      " |-- id: integer (nullable = true)\n",
      " |-- week: integer (nullable = true)\n",
      " |-- center_id: integer (nullable = true)\n",
      " |-- meal_id: integer (nullable = true)\n",
      " |-- checkout_price: float (nullable = true)\n",
      " |-- base_price: float (nullable = true)\n",
      " |-- email_for_promotion: integer (nullable = true)\n",
      " |-- homepage_featured: integer (nullable = true)\n",
      "\n"
     ]
    }
   ],
   "source": [
    "# Print test data schema\n",
    "test_data.printSchema()"
   ]
  },
  {
   "cell_type": "markdown",
   "id": "c465e8fb",
   "metadata": {},
   "source": [
    "### Merging_data train and meal_data dataset by using common key id:\n",
    "\n",
    "#### The meal_id column in train_data is similar to meal_id in meal_data dataset. Let us merge these two datasets using common key meal_id and name the table as data_train.\n"
   ]
  },
  {
   "cell_type": "code",
   "execution_count": 14,
   "id": "0cba350b",
   "metadata": {},
   "outputs": [],
   "source": [
    "data_train = train_data.join(meal_data, on='meal_id', how='outer')\n",
    "data_test = test_data.join(meal_data, on='meal_id', how='outer')"
   ]
  },
  {
   "cell_type": "markdown",
   "id": "fabfc170",
   "metadata": {},
   "source": [
    "### Merging data_train and center_data dataset by using common key center_id:\n",
    "\n",
    "#### The center_id column in data_train is similar to center_id in center_data dataset. Let us merge these two datasets, using common key center_id and store it back in data_train. \n"
   ]
  },
  {
   "cell_type": "code",
   "execution_count": 15,
   "id": "c753c224",
   "metadata": {},
   "outputs": [
    {
     "name": "stderr",
     "output_type": "stream",
     "text": [
      "[Stage 25:===========================================>              (3 + 1) / 4]\r"
     ]
    },
    {
     "name": "stdout",
     "output_type": "stream",
     "text": [
      "+---------+-------+-------+----+--------------+----------+-------------------+-----------------+----------+---------+-------+---------+-----------+-----------+-------+\n",
      "|center_id|meal_id|     id|week|checkout_price|base_price|email_for_promotion|homepage_featured|num_orders| category|cuisine|city_code|region_code|center_type|op_area|\n",
      "+---------+-------+-------+----+--------------+----------+-------------------+-----------------+----------+---------+-------+---------+-----------+-----------+-------+\n",
      "|       26|   1062|1215035|   1|        161.08|    161.08|                  0|                0|       324|Beverages|Italian|      515|         77|     TYPE_C|    3.0|\n",
      "|       26|   1062|1004523|   2|        174.66|    174.66|                  0|                0|       418|Beverages|Italian|      515|         77|     TYPE_C|    3.0|\n",
      "|       26|   1062|1315636|   3|        177.54|    178.54|                  0|                0|       337|Beverages|Italian|      515|         77|     TYPE_C|    3.0|\n",
      "|       26|   1062|1001462|   4|        178.54|    177.54|                  0|                0|       324|Beverages|Italian|      515|         77|     TYPE_C|    3.0|\n",
      "|       26|   1062|1381001|   5|        165.93|    164.93|                  0|                0|       338|Beverages|Italian|      515|         77|     TYPE_C|    3.0|\n",
      "|       26|   1062|1183853|   6|        155.26|    153.26|                  0|                0|       554|Beverages|Italian|      515|         77|     TYPE_C|    3.0|\n",
      "|       26|   1062|1245045|   7|        159.14|    159.14|                  0|                0|       460|Beverages|Italian|      515|         77|     TYPE_C|    3.0|\n",
      "|       26|   1062|1046050|   8|        149.41|    149.41|                  0|                0|       447|Beverages|Italian|      515|         77|     TYPE_C|    3.0|\n",
      "|       26|   1062|1084268|   9|        154.23|    154.23|                  0|                0|       474|Beverages|Italian|      515|         77|     TYPE_C|    3.0|\n",
      "|       26|   1062|1256757|  10|         156.2|     155.2|                  0|                0|       676|Beverages|Italian|      515|         77|     TYPE_C|    3.0|\n",
      "|       26|   1062|1457239|  11|        155.26|    153.26|                  0|                0|       620|Beverages|Italian|      515|         77|     TYPE_C|    3.0|\n",
      "|       26|   1062|1002295|  12|        168.84|    168.84|                  0|                0|       420|Beverages|Italian|      515|         77|     TYPE_C|    3.0|\n",
      "|       26|   1062|1372744|  13|        172.69|    173.69|                  0|                0|       176|Beverages|Italian|      515|         77|     TYPE_C|    3.0|\n",
      "|       26|   1062|1428509|  14|        178.54|    178.54|                  0|                0|       324|Beverages|Italian|      515|         77|     TYPE_C|    3.0|\n",
      "|       26|   1062|1336073|  15|        172.69|    173.69|                  0|                0|       364|Beverages|Italian|      515|         77|     TYPE_C|    3.0|\n",
      "|       26|   1062|1369877|  16|        173.63|    174.63|                  0|                0|       257|Beverages|Italian|      515|         77|     TYPE_C|    3.0|\n",
      "|       26|   1062|1198059|  17|        153.26|    173.63|                  0|                0|       595|Beverages|Italian|      515|         77|     TYPE_C|    3.0|\n",
      "|       26|   1062|1034336|  18|        149.38|    173.63|                  1|                1|       566|Beverages|Italian|      515|         77|     TYPE_C|    3.0|\n",
      "|       26|   1062|1222578|  19|        151.32|    175.63|                  0|                1|       379|Beverages|Italian|      515|         77|     TYPE_C|    3.0|\n",
      "|       26|   1062|1153637|  20|        151.32|    175.63|                  0|                1|       284|Beverages|Italian|      515|         77|     TYPE_C|    3.0|\n",
      "+---------+-------+-------+----+--------------+----------+-------------------+-----------------+----------+---------+-------+---------+-----------+-----------+-------+\n",
      "only showing top 20 rows\n",
      "\n"
     ]
    },
    {
     "name": "stderr",
     "output_type": "stream",
     "text": [
      "\r",
      "                                                                                \r"
     ]
    }
   ],
   "source": [
    "data_train = data_train.join(center_data, on='center_id', how='outer')\n",
    "data_test = data_test.join(center_data, on='center_id', how='outer')\n",
    "data_train.show()"
   ]
  },
  {
   "cell_type": "code",
   "execution_count": 16,
   "id": "7e5f1465",
   "metadata": {},
   "outputs": [
    {
     "name": "stderr",
     "output_type": "stream",
     "text": [
      "[Stage 36:=============================>                            (2 + 2) / 4]\r"
     ]
    },
    {
     "name": "stdout",
     "output_type": "stream",
     "text": [
      "+-------+----+--------------+----------+-------------------+-----------------+----------+---------+-------+---------+-----------+-----------+-------+\n",
      "|     id|week|checkout_price|base_price|email_for_promotion|homepage_featured|num_orders| category|cuisine|city_code|region_code|center_type|op_area|\n",
      "+-------+----+--------------+----------+-------------------+-----------------+----------+---------+-------+---------+-----------+-----------+-------+\n",
      "|1215035|   1|        161.08|    161.08|                  0|                0|       324|Beverages|Italian|      515|         77|     TYPE_C|    3.0|\n",
      "|1004523|   2|        174.66|    174.66|                  0|                0|       418|Beverages|Italian|      515|         77|     TYPE_C|    3.0|\n",
      "|1315636|   3|        177.54|    178.54|                  0|                0|       337|Beverages|Italian|      515|         77|     TYPE_C|    3.0|\n",
      "|1001462|   4|        178.54|    177.54|                  0|                0|       324|Beverages|Italian|      515|         77|     TYPE_C|    3.0|\n",
      "|1381001|   5|        165.93|    164.93|                  0|                0|       338|Beverages|Italian|      515|         77|     TYPE_C|    3.0|\n",
      "+-------+----+--------------+----------+-------------------+-----------------+----------+---------+-------+---------+-----------+-----------+-------+\n",
      "only showing top 5 rows\n",
      "\n"
     ]
    },
    {
     "name": "stderr",
     "output_type": "stream",
     "text": [
      "\r",
      "                                                                                \r"
     ]
    }
   ],
   "source": [
    "# Drop columns “center_id” and “meal_id” as they are not required for the further process.\n",
    "data_train = data_train.drop('meal_id', 'center_id')\n",
    "data_test = data_test.drop('meal_id', 'center_id')\n",
    "data_train.show(5)"
   ]
  },
  {
   "cell_type": "code",
   "execution_count": 17,
   "id": "591c61ba",
   "metadata": {},
   "outputs": [
    {
     "name": "stdout",
     "output_type": "stream",
     "text": [
      "root\n",
      " |-- id: integer (nullable = true)\n",
      " |-- week: integer (nullable = true)\n",
      " |-- checkout_price: float (nullable = true)\n",
      " |-- base_price: float (nullable = true)\n",
      " |-- email_for_promotion: integer (nullable = true)\n",
      " |-- homepage_featured: integer (nullable = true)\n",
      " |-- num_orders: integer (nullable = true)\n",
      " |-- category: string (nullable = true)\n",
      " |-- cuisine: string (nullable = true)\n",
      " |-- city_code: integer (nullable = true)\n",
      " |-- region_code: integer (nullable = true)\n",
      " |-- center_type: string (nullable = true)\n",
      " |-- op_area: float (nullable = true)\n",
      "\n"
     ]
    }
   ],
   "source": [
    "data_train.printSchema()"
   ]
  },
  {
   "cell_type": "code",
   "execution_count": 18,
   "id": "04ce8bdb",
   "metadata": {},
   "outputs": [
    {
     "name": "stdout",
     "output_type": "stream",
     "text": [
      "root\n",
      " |-- id: integer (nullable = true)\n",
      " |-- week: integer (nullable = true)\n",
      " |-- checkout_price: float (nullable = true)\n",
      " |-- base_price: float (nullable = true)\n",
      " |-- email_for_promotion: integer (nullable = true)\n",
      " |-- homepage_featured: integer (nullable = true)\n",
      " |-- category: string (nullable = true)\n",
      " |-- cuisine: string (nullable = true)\n",
      " |-- city_code: integer (nullable = true)\n",
      " |-- region_code: integer (nullable = true)\n",
      " |-- center_type: string (nullable = true)\n",
      " |-- op_area: float (nullable = true)\n",
      "\n"
     ]
    }
   ],
   "source": [
    "data_test.printSchema()"
   ]
  },
  {
   "cell_type": "code",
   "execution_count": 19,
   "id": "eba78ecc",
   "metadata": {},
   "outputs": [
    {
     "name": "stderr",
     "output_type": "stream",
     "text": [
      "[Stage 93:===========================================>              (3 + 1) / 4]\r"
     ]
    },
    {
     "name": "stdout",
     "output_type": "stream",
     "text": [
      "+-------+----+--------------+----------+-------------------+-----------------+----------+---------+-------+---------+-----------+-----------+-------+--------------+-------------+-----------------+\n",
      "|     id|week|checkout_price|base_price|email_for_promotion|homepage_featured|num_orders| category|cuisine|city_code|region_code|center_type|op_area|category_index|cuisine_index|center_type_index|\n",
      "+-------+----+--------------+----------+-------------------+-----------------+----------+---------+-------+---------+-----------+-----------+-------+--------------+-------------+-----------------+\n",
      "|1215035|   1|        161.08|    161.08|                  0|                0|       324|Beverages|Italian|      515|         77|     TYPE_C|    3.0|           0.0|          0.0|              1.0|\n",
      "|1004523|   2|        174.66|    174.66|                  0|                0|       418|Beverages|Italian|      515|         77|     TYPE_C|    3.0|           0.0|          0.0|              1.0|\n",
      "|1315636|   3|        177.54|    178.54|                  0|                0|       337|Beverages|Italian|      515|         77|     TYPE_C|    3.0|           0.0|          0.0|              1.0|\n",
      "|1001462|   4|        178.54|    177.54|                  0|                0|       324|Beverages|Italian|      515|         77|     TYPE_C|    3.0|           0.0|          0.0|              1.0|\n",
      "|1381001|   5|        165.93|    164.93|                  0|                0|       338|Beverages|Italian|      515|         77|     TYPE_C|    3.0|           0.0|          0.0|              1.0|\n",
      "|1183853|   6|        155.26|    153.26|                  0|                0|       554|Beverages|Italian|      515|         77|     TYPE_C|    3.0|           0.0|          0.0|              1.0|\n",
      "|1245045|   7|        159.14|    159.14|                  0|                0|       460|Beverages|Italian|      515|         77|     TYPE_C|    3.0|           0.0|          0.0|              1.0|\n",
      "|1046050|   8|        149.41|    149.41|                  0|                0|       447|Beverages|Italian|      515|         77|     TYPE_C|    3.0|           0.0|          0.0|              1.0|\n",
      "|1084268|   9|        154.23|    154.23|                  0|                0|       474|Beverages|Italian|      515|         77|     TYPE_C|    3.0|           0.0|          0.0|              1.0|\n",
      "|1256757|  10|         156.2|     155.2|                  0|                0|       676|Beverages|Italian|      515|         77|     TYPE_C|    3.0|           0.0|          0.0|              1.0|\n",
      "|1457239|  11|        155.26|    153.26|                  0|                0|       620|Beverages|Italian|      515|         77|     TYPE_C|    3.0|           0.0|          0.0|              1.0|\n",
      "|1002295|  12|        168.84|    168.84|                  0|                0|       420|Beverages|Italian|      515|         77|     TYPE_C|    3.0|           0.0|          0.0|              1.0|\n",
      "|1372744|  13|        172.69|    173.69|                  0|                0|       176|Beverages|Italian|      515|         77|     TYPE_C|    3.0|           0.0|          0.0|              1.0|\n",
      "|1428509|  14|        178.54|    178.54|                  0|                0|       324|Beverages|Italian|      515|         77|     TYPE_C|    3.0|           0.0|          0.0|              1.0|\n",
      "|1336073|  15|        172.69|    173.69|                  0|                0|       364|Beverages|Italian|      515|         77|     TYPE_C|    3.0|           0.0|          0.0|              1.0|\n",
      "|1369877|  16|        173.63|    174.63|                  0|                0|       257|Beverages|Italian|      515|         77|     TYPE_C|    3.0|           0.0|          0.0|              1.0|\n",
      "|1198059|  17|        153.26|    173.63|                  0|                0|       595|Beverages|Italian|      515|         77|     TYPE_C|    3.0|           0.0|          0.0|              1.0|\n",
      "|1034336|  18|        149.38|    173.63|                  1|                1|       566|Beverages|Italian|      515|         77|     TYPE_C|    3.0|           0.0|          0.0|              1.0|\n",
      "|1222578|  19|        151.32|    175.63|                  0|                1|       379|Beverages|Italian|      515|         77|     TYPE_C|    3.0|           0.0|          0.0|              1.0|\n",
      "|1153637|  20|        151.32|    175.63|                  0|                1|       284|Beverages|Italian|      515|         77|     TYPE_C|    3.0|           0.0|          0.0|              1.0|\n",
      "+-------+----+--------------+----------+-------------------+-----------------+----------+---------+-------+---------+-----------+-----------+-------+--------------+-------------+-----------------+\n",
      "only showing top 20 rows\n",
      "\n"
     ]
    },
    {
     "name": "stderr",
     "output_type": "stream",
     "text": [
      "\r",
      "                                                                                \r"
     ]
    }
   ],
   "source": [
    "# Label coding for to convert each text category to numbers in order for the machine to process those using mathematical equations\n",
    "\n",
    "# Define a list of input columns and output columns\n",
    "input_cols = ['category', 'cuisine', 'center_type']\n",
    "output_cols = ['category_index', 'cuisine_index', 'center_type_index']\n",
    "\n",
    "# Create a list of StringIndexer objects\n",
    "indexers = [StringIndexer(inputCol=input_col, outputCol=output_col) for input_col, output_col in zip(input_cols, output_cols)]\n",
    "\n",
    "# Fit and transform the data using the list of StringIndexer objects\n",
    "for indexer in indexers:\n",
    "    data_train = indexer.fit(data_train).transform(data_train)\n",
    "    \n",
    "data_train.show()\n"
   ]
  },
  {
   "cell_type": "code",
   "execution_count": 20,
   "id": "1eb4cff0",
   "metadata": {},
   "outputs": [
    {
     "name": "stderr",
     "output_type": "stream",
     "text": [
      "\r",
      "[Stage 104:==============>                                          (1 + 3) / 4]\r"
     ]
    },
    {
     "name": "stdout",
     "output_type": "stream",
     "text": [
      "+-------+----+--------------+----------+-------------------+-----------------+----------+---------+-----------+-------+--------------+-------------+-----------------+\n",
      "|     id|week|checkout_price|base_price|email_for_promotion|homepage_featured|num_orders|city_code|region_code|op_area|category_index|cuisine_index|center_type_index|\n",
      "+-------+----+--------------+----------+-------------------+-----------------+----------+---------+-----------+-------+--------------+-------------+-----------------+\n",
      "|1215035|   1|        161.08|    161.08|                  0|                0|       324|      515|         77|    3.0|           0.0|          0.0|              1.0|\n",
      "|1004523|   2|        174.66|    174.66|                  0|                0|       418|      515|         77|    3.0|           0.0|          0.0|              1.0|\n",
      "|1315636|   3|        177.54|    178.54|                  0|                0|       337|      515|         77|    3.0|           0.0|          0.0|              1.0|\n",
      "|1001462|   4|        178.54|    177.54|                  0|                0|       324|      515|         77|    3.0|           0.0|          0.0|              1.0|\n",
      "|1381001|   5|        165.93|    164.93|                  0|                0|       338|      515|         77|    3.0|           0.0|          0.0|              1.0|\n",
      "+-------+----+--------------+----------+-------------------+-----------------+----------+---------+-----------+-------+--------------+-------------+-----------------+\n",
      "only showing top 5 rows\n",
      "\n"
     ]
    },
    {
     "name": "stderr",
     "output_type": "stream",
     "text": [
      "\r",
      "                                                                                \r"
     ]
    }
   ],
   "source": [
    "# Drop columns 'category', 'cuisine', 'center_type' as they are not required for the further process.\n",
    "data_train = data_train.drop('category', 'cuisine', 'center_type')\n",
    "data_train.show(5)"
   ]
  },
  {
   "cell_type": "markdown",
   "id": "af9e75b4",
   "metadata": {},
   "source": [
    "### Splitting the Dataset into  Train set and Test set "
   ]
  },
  {
   "cell_type": "code",
   "execution_count": 21,
   "id": "1a4a7bca",
   "metadata": {},
   "outputs": [],
   "source": [
    "# assemble the feature columns into a single feature vector column named 'features'\n",
    "assembler = VectorAssembler(inputCols=['week', 'checkout_price', 'base_price', 'email_for_promotion', 'homepage_featured', 'city_code', 'region_code', 'op_area', 'category_index', 'cuisine_index', 'center_type_index'], outputCol='features')\n",
    "data_train = assembler.transform(data_train)\n"
   ]
  },
  {
   "cell_type": "code",
   "execution_count": 22,
   "id": "08e02127",
   "metadata": {},
   "outputs": [],
   "source": [
    "# split the data into training and test sets\n",
    "train, test = data_train.randomSplit([0.7, 0.3], seed=42)\n"
   ]
  },
  {
   "cell_type": "markdown",
   "id": "01d97f5f",
   "metadata": {},
   "source": [
    "### Model Building\n",
    "\n",
    "\n",
    "- Train and test model algorithms\n",
    "- Evaluation of Model\n",
    "- Predicting the output using the model\n"
   ]
  },
  {
   "cell_type": "markdown",
   "id": "3563931a",
   "metadata": {},
   "source": [
    "#### Linear Regression"
   ]
  },
  {
   "cell_type": "code",
   "execution_count": 23,
   "id": "162f77b9",
   "metadata": {},
   "outputs": [
    {
     "name": "stderr",
     "output_type": "stream",
     "text": [
      "[Stage 126:>                                                        (0 + 4) / 4]\r"
     ]
    },
    {
     "name": "stdout",
     "output_type": "stream",
     "text": [
      "23/04/11 16:57:55 WARN Instrumentation: [161d0946] regParam is zero, which might cause numerical instability and overfitting.\n"
     ]
    },
    {
     "name": "stderr",
     "output_type": "stream",
     "text": [
      "\r",
      "[Stage 131:>                                                        (0 + 4) / 4]\r"
     ]
    },
    {
     "name": "stdout",
     "output_type": "stream",
     "text": [
      "23/04/11 16:57:57 WARN InstanceBuilder$NativeBLAS: Failed to load implementation from:dev.ludovic.netlib.blas.JNIBLAS\n",
      "23/04/11 16:57:57 WARN InstanceBuilder$NativeBLAS: Failed to load implementation from:dev.ludovic.netlib.blas.ForeignLinkerBLAS\n"
     ]
    },
    {
     "name": "stderr",
     "output_type": "stream",
     "text": [
      "                                                                                \r"
     ]
    },
    {
     "name": "stdout",
     "output_type": "stream",
     "text": [
      "23/04/11 16:58:01 WARN InstanceBuilder$NativeLAPACK: Failed to load implementation from:dev.ludovic.netlib.lapack.JNILAPACK\n"
     ]
    },
    {
     "name": "stderr",
     "output_type": "stream",
     "text": [
      "                                                                                \r"
     ]
    }
   ],
   "source": [
    "# train the linear regressor on the training data\n",
    "lr = LinearRegression(featuresCol='features', labelCol='num_orders')\n",
    "lr_model = lr.fit(train)\n",
    "\n",
    "# Make predictions on the test set\n",
    "predictions_lr = lr_model.transform(test)\n"
   ]
  },
  {
   "cell_type": "code",
   "execution_count": 24,
   "id": "ec5cbe3f",
   "metadata": {},
   "outputs": [
    {
     "name": "stderr",
     "output_type": "stream",
     "text": [
      "[Stage 153:============================>                            (2 + 2) / 4]\r"
     ]
    },
    {
     "name": "stdout",
     "output_type": "stream",
     "text": [
      "RMSE for Linear Regressor: 344.9834455470793\n"
     ]
    },
    {
     "name": "stderr",
     "output_type": "stream",
     "text": [
      "\r",
      "                                                                                \r"
     ]
    }
   ],
   "source": [
    "# Evaluate the lr_model's performance\n",
    "evaluator_lr = RegressionEvaluator(labelCol='num_orders', predictionCol='prediction', metricName='rmse')\n",
    "rmse_lr = evaluator_lr.evaluate(predictions_lr)\n",
    "print('RMSE for Linear Regressor:', rmse_lr)\n"
   ]
  },
  {
   "cell_type": "markdown",
   "id": "aeb50731",
   "metadata": {},
   "source": [
    "#### Random Forest Regressor"
   ]
  },
  {
   "cell_type": "code",
   "execution_count": 25,
   "id": "d4df033d",
   "metadata": {},
   "outputs": [
    {
     "name": "stderr",
     "output_type": "stream",
     "text": [
      "WARNING: An illegal reflective access operation has occurred                    \n",
      "WARNING: Illegal reflective access by org.apache.spark.util.SizeEstimator$ (file:/home/cis6180/anaconda3/lib/python3.9/site-packages/pyspark/jars/spark-core_2.12-3.3.1.jar) to field java.nio.charset.Charset.name\n",
      "WARNING: Please consider reporting this to the maintainers of org.apache.spark.util.SizeEstimator$\n",
      "WARNING: Use --illegal-access=warn to enable warnings of further illegal reflective access operations\n",
      "WARNING: All illegal access operations will be denied in a future release\n"
     ]
    }
   ],
   "source": [
    "\n",
    "# A RandomForestRegressor model is created with 20 trees, a maximum depth of 5, and a random seed of 42.\n",
    "\n",
    "# train the random forest regressor on the training data\n",
    "rf = RandomForestRegressor(featuresCol='features', labelCol='num_orders', numTrees=20, maxDepth=5, seed=42)\n",
    "rf_model = rf.fit(train)\n",
    "\n",
    "# Make predictions on the test set\n",
    "predictions_rf = rf_model.transform(test)\n"
   ]
  },
  {
   "cell_type": "code",
   "execution_count": 26,
   "id": "bf5db72b",
   "metadata": {},
   "outputs": [
    {
     "name": "stderr",
     "output_type": "stream",
     "text": [
      "[Stage 216:>                                                        (0 + 4) / 4]\r"
     ]
    },
    {
     "name": "stdout",
     "output_type": "stream",
     "text": [
      "Root Mean Squared Error (RMSE) for Random Forest Regressor: 281.85328071613617\n"
     ]
    },
    {
     "name": "stderr",
     "output_type": "stream",
     "text": [
      "\r",
      "                                                                                \r"
     ]
    }
   ],
   "source": [
    "# The RegressionEvaluator is used to evaluate the predictions by calculating the root mean squared error (RMSE) \n",
    "# between the predicted values and the actual values. \n",
    "# The RMSE is printed to the console.\n",
    "\n",
    "# Evaluate the rf_model's predictions\n",
    "evaluator_rf = RegressionEvaluator(labelCol='num_orders', predictionCol='prediction', metricName='rmse')\n",
    "rmse_rf = evaluator_rf.evaluate(predictions_rf)\n",
    "\n",
    "print(f\"Root Mean Squared Error (RMSE) for Random Forest Regressor: {rmse_rf}\")\n"
   ]
  },
  {
   "cell_type": "code",
   "execution_count": null,
   "id": "f2a7ab1b",
   "metadata": {},
   "outputs": [],
   "source": []
  }
 ],
 "metadata": {
  "kernelspec": {
   "display_name": "Python 3 (ipykernel)",
   "language": "python",
   "name": "python3"
  },
  "language_info": {
   "codemirror_mode": {
    "name": "ipython",
    "version": 3
   },
   "file_extension": ".py",
   "mimetype": "text/x-python",
   "name": "python",
   "nbconvert_exporter": "python",
   "pygments_lexer": "ipython3",
   "version": "3.9.13"
  }
 },
 "nbformat": 4,
 "nbformat_minor": 5
}
